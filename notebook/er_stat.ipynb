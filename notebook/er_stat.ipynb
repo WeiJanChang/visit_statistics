{
 "cells": [
  {
   "cell_type": "code",
   "execution_count": 1,
   "id": "1d230984",
   "metadata": {},
   "outputs": [],
   "source": [
    "#目的：想知道男和女分別去急診就診原因及所佔的比例\n",
    "#Step 1:read file -->dataframe\n",
    "\n",
    "from typing import Union, Tuple, Optional\n",
    "#Optional[X] is equivalent to X | None (or Union[X, None]).   none是一種type，如果你打的不是x，就是None\n",
    "#Union[X, Y] is equivalent to X | Y and means either X or Y.   \n",
    "\n",
    "\n",
    "import pandas as pd\n",
    "import matplotlib.pyplot as plt\n",
    "from pathlib import Path\n",
    "\n",
    "from matplotlib.axes import Axes\n",
    "\n",
    "plt.rcParams['font.sans-serif'] = ['Arial Unicode MS'] #用來正常顯示中文標籤\n",
    "plt.rcParams['axes.unicode_minus'] = False   #用來正常顯示負號\n",
    "\n",
    "\n",
    "def load_csv(p: Union[Path, str]) -> pd.DataFrame:   #p：不是path 就是str字串的type，然後->pd.df代表函式回傳會是df type\n",
    "    \"\"\"                                              \n",
    "    load csv file\n",
    "\n",
    "    :param p: csv path or containing folder\n",
    "    :return:\n",
    "        pd.DataFrame\n",
    "    \"\"\"\n",
    "    if isinstance(p, str):         # isinstance(object, classinfo)是一個内置函數，判断p(object)是否是已知的類型str(classinfo)\n",
    "        p = Path(p)                #p是path type\n",
    "\n",
    "    if 'csv' in p.name:\n",
    "        return pd.read_csv(p, encoding='utf-8')\n",
    "\n",
    "    else:\n",
    "        f = list(p.glob('*.csv'))   #    如果沒有csv檔的文件，就用.glob去找檔案.  *:匹配所有的內容,要讀什麼檔案類型：.txt, .csv\n",
    "        if len(f) == 0:                                             #如果都沒有 就顯示no cvs file...\n",
    "            raise FileNotFoundError(f'no csv file under the {p}')  \n",
    "        elif len(f) == 1:                                          #如果有1個，就去讀f的第一個出現csv檔\n",
    "            return pd.read_csv(f[0], encoding='utf-8')\n",
    "        else:\n",
    "            raise RuntimeError(f'multiple csv files under the {p}')  #如果太多csv檔案，就顯示multiple cvs files...\n",
    "            \n",
    "#a=load_csv(\"/Users/wei/er-visit-statistics/test_file/Summary_of_patients_in_ER_20210318.csv\")\n",
    "#a"
   ]
  },
  {
   "cell_type": "code",
   "execution_count": 2,
   "id": "9bc93031",
   "metadata": {},
   "outputs": [],
   "source": [
    "#Step2: (1)部分資料先中改英 (2)分別抓出個年齡層 (3)分別抓出男生和女生 (4)人數row排序遞減 (5)取出男女分別總病人數,算就診率 \n",
    "\n",
    "#(1)部分資料先中改英\n",
    "def parse_csv(df: pd.DataFrame,  #parse_csv() 給指令來分類，分csv檔案裡的東西。\n",
    "              gender: str,\n",
    "              age_range: Optional[Tuple[int, int]] = None) -> pd.DataFrame:\n",
    "    \"\"\"\n",
    "    translate, select ages and gender from raw dataframe\n",
    "\n",
    "    :param df:\n",
    "    :param gender: {'M', 'F'}\n",
    "    :param age_range: whether specify the range of ages\n",
    "    :return:\n",
    "    \"\"\"\n",
    "\n",
    "    df.columns = [\"Gender\", \"Age\", \"Diseases\", \"Patients\"]\n",
    "    df[\"Gender\"].replace({\"女\": \"F\", \"男\": \"M\"}, inplace=True)\n",
    "    df[\"Diseases\"].replace({\"呼吸系統疾病\":\"Respiratory Disease\",\n",
    "                        \"消化系統疾病\":\"Digestive system disease\",\n",
    "                        \"急性上呼吸道感染和流行性感冒\":\"Acute upper respiratory tract infection & Influenza\",\n",
    "                        \"腹痛及骨盆痛\":\"Abdominal and Pelvic pain\",\"生殖泌尿系統疾病\":\"Genitourinary disease\",\n",
    "                        \"循環系統疾病\":\"Circulatory system disease\",\"其他頭部損傷\":\"Head injury\",\n",
    "                        \"其他泌尿系統疾病\":\"Other urinary system disease\",\n",
    "                        \"其他及未明示非傳染性胃腸炎及結腸炎\":\"Unknown noninfective enteritis and colitis\",\n",
    "                        \"內分泌、營養和代謝疾病\":\"Endocrine, nutritional and metabolic disease\",\n",
    "                        \"皮膚及皮下組織疾病\":\"Skin and subcutaneous tissue disease\",\n",
    "                        \"感染症及寄生蟲病\":\"Infectious disease & Parasite infection\"},inplace=True)\n",
    "    \n",
    "\n",
    "#(2)分別抓出個年齡層\n",
    "# age mask\n",
    "    if age_range is None:   #如果age沒顯示幾歲（沒範圍），就顯示總計\n",
    "        m = df['Age'] == \"總計\"\n",
    "    elif age_range[1]-age_range[0] != 4:\n",
    "        print (\"please do the age difference to equal four.\")\n",
    "    elif age_range[0] %5 !=0:      # 第一個數除以5不會有餘數，如果有餘數 就顯示 print裡的文字\n",
    "        print (\"please notice that the first age is a multiple of 5.\")\n",
    "    else:\n",
    "        if age_range[0] != 85:     #如果輸入的年齡，[0]不等於85\n",
    "            m = df['Age'] == f'{age_range[0]}~{age_range[1]}歲'   #就顯示幾歲到幾歲\n",
    "        else:  # above 85 years-old\n",
    "            m = df['Age'] == f'{age_range[0]}歲以上'\n",
    "    df = df[m]\n",
    "\n",
    "\n",
    "\n",
    "#(3)分別抓出男生和女生 \n",
    "# gender mask\n",
    "    gm = df['Gender'] == gender\n",
    "#(4)人數row排序遞減\n",
    "    df = df[gm].sort_values(['Patients'], ascending=False)\n",
    "#(5)取出男女分別總病人數.max()＋就診率\n",
    "    total_pt = df['Patients'].max()\n",
    "    df[\"Consultation rate(%)\"] = df[\"Patients\"] / total_pt * 100\n",
    "    \n",
    "    return df\n"
   ]
  },
  {
   "cell_type": "code",
   "execution_count": 3,
   "id": "9215fdc9",
   "metadata": {},
   "outputs": [],
   "source": [
    "#parse_csv(a,\"M\",[10,14])"
   ]
  },
  {
   "cell_type": "code",
   "execution_count": 4,
   "id": "92ff9839",
   "metadata": {},
   "outputs": [],
   "source": [
    "#step3:畫圖\n",
    "\n",
    "def _plot_bar(ax: Axes, df: pd.DataFrame, gender: str):   #Axes.bar()函數用於製作條形圖\n",
    "    \"\"\"bar plot\"\"\"\n",
    "    x = df['Diseases'].to_numpy()   #將df 轉為array\n",
    "    y = df['Consultation rate(%)'].to_numpy()\n",
    "\n",
    "    for i in range(df.shape[0]):\n",
    "        ax.bar(x[i], y[i], label=x[i])\n",
    "\n",
    "    ax.get_xaxis().set_visible(False)   \n",
    "    #Axes.get_xaxis(): Return the XAxis instance.\n",
    "    #get_xaxis().set_visible(False)  不顯示X軸\n",
    "    ax.set_ylabel('Consultation rate(%)')   #設y軸\n",
    "    ax.set_title(f'Statistics of {gender} patients in ER') #設title\n",
    "    ax.legend() #ax.legend()來顯示數據的名稱，名稱定義在label中\n",
    "    plt.show()\n",
    "\n",
    "\n",
    "#step4: 內容都打好了，最終要的就是：輸入路徑->寫\"M\" or \"F\"->寫年齡 ->排名前十名 .\n",
    "\n",
    "def plot_er_stat(p: Union[Path, str],    #path 傳進去應是path 和str字串的type\n",
    "                 gender: str,  \n",
    "                 age_range: Optional[Tuple[int, int]] = None,\n",
    "                 rank: int = 10):  #取前十名\n",
    "    \"\"\"\n",
    "\n",
    "    :param p: csv path or containing folder\n",
    "    :param gender: {'M', 'F'}\n",
    "    :param age_range: whether specify the range of ages\n",
    "    :param rank: top rank sorted by `Patients` numbers\n",
    "    :return:\n",
    "    \"\"\"\n",
    "\n",
    "    df = load_csv(p)\n",
    "    df = parse_csv(df, gender, age_range)\n",
    "    df = df[5:rank + 5]  # remove sum及remove 前四名無法分類的\n",
    "\n",
    "    _, ax = plt.subplots()\n",
    "    _plot_bar(ax, df, gender)\n",
    "\n",
    "\n"
   ]
  },
  {
   "cell_type": "code",
   "execution_count": 5,
   "id": "851dab30",
   "metadata": {},
   "outputs": [
    {
     "data": {
      "text/plain": [
       "'from pathlib import Path  #Path是一種type\\n\\np = Path.cwd()\\nprint(p, type(p))'"
      ]
     },
     "execution_count": 5,
     "metadata": {},
     "output_type": "execute_result"
    }
   ],
   "source": [
    "\"\"\"from pathlib import Path  #Path是一種type\n",
    "\n",
    "p = Path.cwd()\n",
    "print(p, type(p))\"\"\""
   ]
  },
  {
   "cell_type": "code",
   "execution_count": 6,
   "id": "322b56f1",
   "metadata": {},
   "outputs": [
    {
     "data": {
      "text/plain": [
       "'keyword  argument:\\n在function input裡定義你要的parameter\\nex:\\ndef add(x,y)\\nadd(x=4,y=5)\\n\\npositoin argument:\\nkeyword argumet 就是在function input按照位置放進去\\n\\nex:\\ndef add (x,y)\\nadd(4,5)'"
      ]
     },
     "execution_count": 6,
     "metadata": {},
     "output_type": "execute_result"
    }
   ],
   "source": [
    "#練習寫function\n",
    "#function  input : 路徑pathway (讀檔用)\n",
    "# parameter : bool 分男女\n",
    "#out put 是dataframe\n",
    "#function 2 : input dataframe 做排序  output成一個dictionary\n",
    "#讀plot.\n",
    "\n",
    "\n",
    "\"\"\"keyword  argument:\n",
    "在function input裡定義你要的parameter\n",
    "ex:\n",
    "def add(x,y)\n",
    "add(x=4,y=5)\n",
    "\n",
    "positoin argument:\n",
    "keyword argumet 就是在function input按照位置放進去\n",
    "\n",
    "ex:\n",
    "def add (x,y)\n",
    "add(4,5)\"\"\"\n"
   ]
  },
  {
   "cell_type": "code",
   "execution_count": 7,
   "id": "309a8328",
   "metadata": {},
   "outputs": [
    {
     "data": {
      "image/png": "[encoded data removed]",
      "text/plain": [
       "<Figure size 432x288 with 1 Axes>"
      ]
     },
     "metadata": {
      "needs_background": "light"
     },
     "output_type": "display_data"
    }
   ],
   "source": [
    "plot_er_stat(\"/Users/wei/visit_statistics/test_file/Summary_of_patients_in_ER_20210318.csv\",\"F\",[10,14])"
   ]
  },
  {
   "cell_type": "code",
   "execution_count": null,
   "id": "b8f10301",
   "metadata": {},
   "outputs": [],
   "source": []
  }
 ],
 "metadata": {
  "kernelspec": {
   "display_name": "Python 3",
   "language": "python",
   "name": "python3"
  },
  "language_info": {
   "codemirror_mode": {
    "name": "ipython",
    "version": 3
   },
   "file_extension": ".py",
   "mimetype": "text/x-python",
   "name": "python",
   "nbconvert_exporter": "python",
   "pygments_lexer": "ipython3",
   "version": "3.8.8"
  }
 },
 "nbformat": 4,
 "nbformat_minor": 5
}
